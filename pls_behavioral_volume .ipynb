{
 "cells": [
  {
   "cell_type": "code",
   "execution_count": null,
   "metadata": {},
   "outputs": [],
   "source": [
    "import pandas as pd\n",
    "from freesurfer_stats import CorticalParcellationStats\n",
    "import glob\n",
    "import re\n",
    "import itertools\n",
    "import numpy as np\n",
    "import pyls\n",
    "import seaborn as sns\n",
    "import matplotlib.pyplot as plt\n",
    "import matplotlib.colors as mcolors\n",
    "from sklearn.preprocessing import LabelEncoder,OrdinalEncoder\n",
    "import pickle\n",
    "from sklearn import preprocessing\n",
    "from scipy.stats import zscore\n",
    "from nilearn import input_data\n",
    "from nilearn import plotting\n",
    "import pingouin as pg"
   ]
  },
  {
   "cell_type": "code",
   "execution_count": null,
   "metadata": {},
   "outputs": [],
   "source": [
    "sns.set_context(\"notebook\", font_scale=1.7)\n",
    "sns.set_style(\"whitegrid\")"
   ]
  },
  {
   "cell_type": "markdown",
   "metadata": {},
   "source": [
    "## Carga datos volúmenes"
   ]
  },
  {
   "cell_type": "code",
   "execution_count": null,
   "metadata": {},
   "outputs": [],
   "source": [
    "all_volumes_file = 'data/all_volumes.csv'\n",
    "all_volumes = pd.read_csv(all_volumes_file)\n",
    "all_volumes.drop(columns=all_volumes.columns[0], axis=1, inplace=True)\n",
    "#all_volumes.columns.to_list()\n",
    "\n",
    "# Selección de estructuras, no se inlcluye el 5to ventrículo\n",
    "columns = list(range(0,15)) + list(range(21,54)) + list(range(61,467))\n",
    "selected_values = all_volumes.iloc[:,columns]\n",
    "\n",
    "# Cambio nombre grupo\n",
    "selected_values.rename(columns={'grupo': 'group'}, inplace=True)\n",
    "\n",
    "# Selección prisma 1\n",
    "selected_values = selected_values.loc[selected_values['project'].isin(['prisma1','controles'])]\n",
    "\n",
    "# Selección TAB y CTRL\n",
    "selected_values = selected_values.loc[selected_values['group'].isin(['TAB','CTR'])]\n",
    "#selected_values"
   ]
  },
  {
   "cell_type": "code",
   "execution_count": null,
   "metadata": {},
   "outputs": [],
   "source": [
    "# Conteo datos iniciales\n",
    "selected_values.groupby('group').describe()"
   ]
  },
  {
   "cell_type": "code",
   "execution_count": null,
   "metadata": {},
   "outputs": [],
   "source": [
    "# Selección sujetos chequeo freesurfer\n",
    "check_file = 'data/ConsolidadoRatings.xlsx'\n",
    "check_data = pd.read_excel(check_file,'ALL')\n",
    "suj_to_remove = check_data[check_data['Rating'] == 'FaIL'].Codigo\n",
    "\n",
    "selected_values = selected_values.set_index('subject')\n",
    "selected_values.drop(index=suj_to_remove,inplace=True)\n",
    "selected_values = selected_values.reset_index(drop=False)\n",
    "selected_values.groupby('group').describe()"
   ]
  },
  {
   "cell_type": "markdown",
   "metadata": {},
   "source": [
    "## Normalización por volumen intracraneal"
   ]
  },
  {
   "cell_type": "code",
   "execution_count": null,
   "metadata": {},
   "outputs": [],
   "source": [
    "selected_values.iloc[:,3:] = selected_values.iloc[:,3:].div(selected_values[\"Estimated Total Intracranial Volume\"], axis=0)\n",
    "#selected_values"
   ]
  },
  {
   "cell_type": "code",
   "execution_count": null,
   "metadata": {},
   "outputs": [],
   "source": [
    "all_data = selected_values\n",
    "# Remover columna de ETIV\n",
    "all_data = all_data.drop(['Estimated Total Intracranial Volume'],axis=1)\n",
    "#all_data"
   ]
  },
  {
   "cell_type": "markdown",
   "metadata": {},
   "source": [
    "## Carga de datos clínicos"
   ]
  },
  {
   "cell_type": "code",
   "execution_count": null,
   "metadata": {},
   "outputs": [],
   "source": [
    "clinical_file = 'data/BFCN_t1_cov.xlsx'\n",
    "clinical_data = pd.read_excel(clinical_file)\n",
    "clinical_data.loc[clinical_data.subject.str.contains('CTRL'), 'project'] = 'controles'\n",
    "# Selección de variables\n",
    "clinical_data.drop(columns=['group','columna1','dim3','dim4','id_prisma'],inplace=True)\n",
    "#clinical_data"
   ]
  },
  {
   "cell_type": "markdown",
   "metadata": {},
   "source": [
    "## Merge both files"
   ]
  },
  {
   "cell_type": "code",
   "execution_count": null,
   "metadata": {},
   "outputs": [],
   "source": [
    "# Unión archivos volúmenes e información clínica\n",
    "clinical_image_df= pd.merge(all_data, clinical_data, how='left', on=['subject', 'project'])\n",
    "clinical_image_df.groupby('group').describe()"
   ]
  },
  {
   "cell_type": "code",
   "execution_count": null,
   "metadata": {},
   "outputs": [],
   "source": [
    "#Remove data for TAB and diagnosis 2\n",
    "clinical_image_df.drop(clinical_image_df.index[clinical_image_df['diagnosis']=='Bipolar Affective Disorder 2'],inplace=True)\n",
    "clinical_image_df.groupby('group').describe()"
   ]
  },
  {
   "cell_type": "code",
   "execution_count": null,
   "metadata": {},
   "outputs": [],
   "source": [
    "clinical_image_df.head()"
   ]
  },
  {
   "cell_type": "markdown",
   "metadata": {},
   "source": [
    "## Normalización de los datos"
   ]
  },
  {
   "cell_type": "code",
   "execution_count": null,
   "metadata": {},
   "outputs": [],
   "source": [
    "# Normalización z-score por fila (sujeto) para datos de volumen 3 a 454\n",
    "clinical_image_z = clinical_image_df\n",
    "clinical_image_z.iloc[:,3:453] = clinical_image_z.iloc[:,3:453].apply(zscore, axis=1) \n",
    "clinical_image_z.groupby('group').describe()"
   ]
  },
  {
   "cell_type": "code",
   "execution_count": null,
   "metadata": {},
   "outputs": [],
   "source": [
    "#clinical_image_z.iloc[:,453:].columns.to_list()"
   ]
  },
  {
   "cell_type": "code",
   "execution_count": null,
   "metadata": {},
   "outputs": [],
   "source": [
    "# Selección variables clínicas\n",
    "list_regression = ['age','sex','education_level','etiv',\n",
    "                   'antipsychotic_use','antidepressant_use','moodstabiliser_use']\n",
    "list_norm = ['age','sex','education_level','etiv']"
   ]
  },
  {
   "cell_type": "code",
   "execution_count": null,
   "metadata": {},
   "outputs": [],
   "source": [
    "# Eliminación datos nan\n",
    "clinical_image_z_na = clinical_image_z.dropna(subset = list_regression)\n",
    "clinical_image_z_na.reset_index(drop= True, inplace=True)\n",
    "clinical_image_z_na.groupby('group').describe()"
   ]
  },
  {
   "cell_type": "code",
   "execution_count": null,
   "metadata": {},
   "outputs": [],
   "source": [
    "# Normalización covariables por columna\n",
    "clinical_image_z_na[list_norm] = clinical_image_z_na[list_norm].apply(zscore, axis=0)"
   ]
  },
  {
   "cell_type": "markdown",
   "metadata": {},
   "source": [
    "## Regresión lineal múltiple"
   ]
  },
  {
   "cell_type": "code",
   "execution_count": null,
   "metadata": {},
   "outputs": [],
   "source": [
    "vol_cols = clinical_image_z_na.iloc[:,3:453].columns.to_list()\n",
    "residuals = pd.DataFrame()\n",
    "\n",
    "for col in vol_cols:\n",
    "    lm = pg.linear_regression(clinical_image_z_na[list_regression]\n",
    "                              ,clinical_image_z_na[col])\n",
    "    \n",
    "    residuals[col] = lm.residuals_\n"
   ]
  },
  {
   "cell_type": "code",
   "execution_count": null,
   "metadata": {},
   "outputs": [],
   "source": [
    "# Formación nuevo data frame\n",
    "clinical_image_z_na.iloc[:,3:453] = residuals.values"
   ]
  },
  {
   "cell_type": "markdown",
   "metadata": {},
   "source": [
    "## PLS BEHAVIORAL"
   ]
  },
  {
   "cell_type": "code",
   "execution_count": null,
   "metadata": {},
   "outputs": [],
   "source": [
    "#clinical_image_z.iloc[:,453:].columns.to_list()"
   ]
  },
  {
   "cell_type": "code",
   "execution_count": null,
   "metadata": {},
   "outputs": [],
   "source": [
    "# Selección variables\n",
    "# Variables psycológicas que se encuentran para TAB y CTRL (continuas)\n",
    "y_list = ['psy_cit','psy_tmt_a','psy_tmt_b',\n",
    "          'psy_tavec_1_en_a','psy_tavec_a_5_ens','psy_tavec_rec_tl_a','psy_tavec_b_in','psy_tavec_%_pri',\n",
    "          'psy_tavec_%_med','psy_tavec_%_rec','psy_tavec_re_lb_cp','psy_tavec_re_lb_lp','psy_tavec_re_cl_cp',\n",
    "          'psy_tavec_re_cl_lp','psy_tavec_est_ser_a','psy_tavec_est_ser_rcp',\n",
    "          'psy_tavec_est_ser_rlp','psy_tavec_est_sem_a','psy_tavec_est_sem_b','psy_tavec_rec','psy_wmsiii_d',\n",
    "          'psy_wmsiii_i','psy_fas_sm','psy_fas_fn','psy_wcst_err','psy_wcst_cat','psy_wcst_%pers','psy_wcst_%conc']"
   ]
  },
  {
   "cell_type": "code",
   "execution_count": null,
   "metadata": {},
   "outputs": [],
   "source": [
    "# Eliminación datos nan\n",
    "clinical_image_z_na = clinical_image_z.dropna(subset = y_list)\n",
    "clinical_image_z_na.reset_index(drop= True, inplace=True)\n",
    "clinical_image_z_na.groupby('group').describe()"
   ]
  },
  {
   "cell_type": "code",
   "execution_count": null,
   "metadata": {},
   "outputs": [],
   "source": [
    "# Normalización covariables por columna\n",
    "clinical_image_z_na[y_list] = clinical_image_z_na[y_list].apply(zscore, axis=0)"
   ]
  },
  {
   "cell_type": "code",
   "execution_count": null,
   "metadata": {},
   "outputs": [],
   "source": [
    "all_data_sorted = clinical_image_z_na.sort_values('group', axis=0, ascending=True, inplace=False, kind='quicksort', na_position='last')\n",
    "\n",
    "count_groups = all_data_sorted.groupby(['group']).count()\n",
    "groups_dict = count_groups['subject'].to_dict()\n",
    "\n",
    "list_len = list(groups_dict.values())\n",
    "groups = list(groups_dict.keys())\n",
    "groups_dict"
   ]
  },
  {
   "cell_type": "code",
   "execution_count": null,
   "metadata": {
    "scrolled": true
   },
   "outputs": [],
   "source": [
    "# Matriz X: datos de volúmenes\n",
    "X_brain = all_data_sorted.iloc[:,3:453].values"
   ]
  },
  {
   "cell_type": "code",
   "execution_count": null,
   "metadata": {},
   "outputs": [],
   "source": [
    "Y_beha = all_data_sorted[y_list].values"
   ]
  },
  {
   "cell_type": "code",
   "execution_count": null,
   "metadata": {},
   "outputs": [],
   "source": [
    "pls = pyls.behavioral_pls(X_brain, Y_beha, groups=list_len, seed=42, n_proc='max')"
   ]
  },
  {
   "cell_type": "code",
   "execution_count": null,
   "metadata": {},
   "outputs": [],
   "source": [
    "# Significancia PLS \n",
    "pvals = pls.permres['pvals']\n",
    "x_weights = pls.bootres.x_weights_normed \n",
    "y_weights = pls.y_weights\n",
    "pvals"
   ]
  },
  {
   "cell_type": "code",
   "execution_count": null,
   "metadata": {},
   "outputs": [],
   "source": [
    "sig_ind = np.where(pvals < 0.05)[0]\n",
    "sig_ind"
   ]
  },
  {
   "cell_type": "code",
   "execution_count": null,
   "metadata": {},
   "outputs": [],
   "source": [
    "pls.varexp[sig_ind]"
   ]
  },
  {
   "cell_type": "code",
   "execution_count": null,
   "metadata": {},
   "outputs": [],
   "source": [
    "conditions = []\n",
    "for j in y_list:\n",
    "    conditions = conditions + [j + '-' + i for i in groups]\n",
    "#conditions"
   ]
  },
  {
   "cell_type": "code",
   "execution_count": null,
   "metadata": {},
   "outputs": [],
   "source": [
    "fig, axs = plt.subplots(1, 1, figsize=(5,25))\n",
    "icx = 0\n",
    "err = (pls[\"bootres\"][\"y_loadings_ci\"][:, icx, 1] - pls[\"bootres\"][\"y_loadings_ci\"][:, icx, 0]) / 2   \n",
    "axs.barh(np.arange(len(err)), pls[\"y_loadings\"][:, icx], xerr=err)\n",
    "axs.set_yticks(np.arange(len(conditions)))#, labels=ext_pet_roi_df.columns[1:].to_numpy()[relidx])\n",
    "axs.set_yticklabels(np.array(conditions)) #(ext_pet_roi_maps.columns[1:].to_numpy()[sorted_idx])"
   ]
  },
  {
   "cell_type": "code",
   "execution_count": null,
   "metadata": {},
   "outputs": [],
   "source": [
    "# Gráfico que condiciones que no pasan por cero\n",
    "icx = 0\n",
    "ind_sig = np.where(abs(err) < abs(pls[\"y_loadings\"][:, icx]))[0]\n",
    "\n",
    "new_ind = list()\n",
    "for i in range(len(ind_sig)):\n",
    "    if ind_sig[i] % 2 == 0:\n",
    "        if ind_sig[i] + 1 == ind_sig[i+1]:\n",
    "            print('ok')\n",
    "        else:\n",
    "            new_ind.insert(i+1, ind_sig[i] + 1 )\n",
    "            print('no')\n",
    "    else:\n",
    "        if ind_sig[i] - 1 == ind_sig[i-1]:\n",
    "            print('ok')\n",
    "        else:\n",
    "            new_ind.insert(i-1, ind_sig[i] - 1 )\n",
    "            #print('no')\n",
    "            \n",
    "new_sig = list(ind_sig) + new_ind\n",
    "new_sig.sort()\n",
    "\n",
    "# Adicionar ambas condiciones (generar lista)\n",
    "#ind_sig = [0, 1, 24, 25, 26, 27, 30, 31, 32, 33, 34, 35, 38, 39, 40, 41, 44, 45, 46, 47, 48, 49, 50, 51] \n",
    "\n",
    "color_list = ['olive','gray']"
   ]
  },
  {
   "cell_type": "code",
   "execution_count": null,
   "metadata": {},
   "outputs": [],
   "source": [
    "fig, axs = plt.subplots(1, 1, figsize=(5,10))\n",
    "icx = 0\n",
    "err_sig = (pls[\"bootres\"][\"y_loadings_ci\"][new_sig, icx, 1] - pls[\"bootres\"][\"y_loadings_ci\"][new_sig, icx, 0]) / 2   \n",
    "axx= axs.barh(np.arange(len(err_sig)), pls[\"y_loadings\"][new_sig, icx], xerr=err_sig, color=color_list)\n",
    "conditions_new = [i.split('-')[0] for i in conditions]\n",
    "axs.set_yticks(np.arange(len(new_sig)))\n",
    "axs.set_yticklabels(np.array(conditions_new)[new_sig])\n",
    "axs.legend(axx,['ctrl','tab'])"
   ]
  },
  {
   "cell_type": "markdown",
   "metadata": {},
   "source": [
    "## Gráficos de dispersión"
   ]
  },
  {
   "cell_type": "code",
   "execution_count": null,
   "metadata": {},
   "outputs": [],
   "source": [
    "score_pls = pd.DataFrame()\n",
    "score_pls['subject'] = all_data_sorted['subject']\n",
    "score_pls['group'] = all_data_sorted['group']\n",
    "score_pls['psy_tavec_re_cl_lp'] = all_data_sorted['psy_tavec_re_cl_lp']\n",
    "score_pls['psy_tavec_re_cl_cp'] = all_data_sorted['psy_tavec_re_cl_cp']\n",
    "score_pls['x_score']=pls.x_scores[:,0]\n",
    "score_pls['y_score']=pls.y_scores[:,0]"
   ]
  },
  {
   "cell_type": "code",
   "execution_count": null,
   "metadata": {},
   "outputs": [],
   "source": [
    "# Gráfico x vs y scores\n",
    "sns.set(rc={'figure.figsize':(11,8)})\n",
    "g=sns.scatterplot(x=\"x_score\", y=\"y_score\",\n",
    "                  hue=\"group\",data=score_pls,linewidth=1)\n",
    "\n",
    "plt.title(\"X SCORE VS Y SCORE LV 1\")\n",
    "plt.show()"
   ]
  },
  {
   "cell_type": "code",
   "execution_count": null,
   "metadata": {},
   "outputs": [],
   "source": [
    "# Gráfico variable latente 1 vs psy_tavec_re_cl_cp (recuerdo claves a corto plazo)\n",
    "sns.set(rc={'figure.figsize':(11,8)})\n",
    "        \n",
    "g=sns.scatterplot(x=\"x_score\", y=\"psy_tavec_re_cl_cp\",\n",
    "                  hue=\"group\",legend=True,data=score_pls,linewidth=1)\n",
    "\n",
    "plt.title(\"X score vs tavec_re_cl_cp \")\n",
    "plt.show()"
   ]
  },
  {
   "cell_type": "code",
   "execution_count": null,
   "metadata": {},
   "outputs": [],
   "source": [
    "# Gráfico variable latente 1 vs psy_tavec_re_cl_cp (recuerdo claves a corto plazo)\n",
    "sns.set(rc={'figure.figsize':(11,8)})\n",
    "        \n",
    "g=sns.scatterplot(x=\"y_score\", y=\"psy_tavec_re_cl_cp\",\n",
    "                  hue=\"group\",legend=True,data=score_pls,linewidth=1)\n",
    "\n",
    "plt.title(\"Y score vs tavec_re_cl_cp \")\n",
    "plt.show()"
   ]
  },
  {
   "cell_type": "code",
   "execution_count": null,
   "metadata": {},
   "outputs": [],
   "source": [
    "# Gráfico variable latente 1 vs psy_tavec_re_cl_lp (recuerdo claves a largo plazo)\n",
    "sns.set(rc={'figure.figsize':(11,8)})\n",
    "        \n",
    "g=sns.scatterplot(x=\"x_score\", y=\"psy_tavec_re_cl_lp\",\n",
    "                  hue=\"group\",legend=True,data=score_pls,linewidth=1)\n",
    "\n",
    "plt.title(\"X score vs tavec_re_cl_lp \")\n",
    "plt.show()"
   ]
  },
  {
   "cell_type": "code",
   "execution_count": null,
   "metadata": {},
   "outputs": [],
   "source": [
    "# Gráfico variable latente 1 vs psy_tavec_re_cl_lp (recuerdo claves a largo plazo)\n",
    "sns.set(rc={'figure.figsize':(11,8)})\n",
    "        \n",
    "g=sns.scatterplot(x=\"y_score\", y=\"psy_tavec_re_cl_lp\",\n",
    "                  hue=\"group\",legend=True,data=score_pls,linewidth=1)\n",
    "\n",
    "plt.title(\"Y score vs tavec_re_cl_lp \")\n",
    "plt.show()"
   ]
  },
  {
   "cell_type": "markdown",
   "metadata": {},
   "source": [
    "## PLS invirtiendo X: behavior, Y: volumes"
   ]
  },
  {
   "cell_type": "code",
   "execution_count": null,
   "metadata": {},
   "outputs": [],
   "source": [
    "# Matriz X: datos de volúmenes\n",
    "Y = all_data_sorted.iloc[:,3:453].values\n",
    "X = all_data_sorted[y_list].values"
   ]
  },
  {
   "cell_type": "code",
   "execution_count": null,
   "metadata": {},
   "outputs": [],
   "source": [
    "pls2 = pyls.behavioral_pls(X, Y, groups=list_len, seed=42, n_proc='max')"
   ]
  },
  {
   "cell_type": "code",
   "execution_count": null,
   "metadata": {},
   "outputs": [],
   "source": [
    "pvals2 = pls2.permres['pvals']\n",
    "x_weights = pls2.bootres.x_weights_normed # 28 \n",
    "y_weights = pls2.y_weights # 900 (450 características por grupo)\n",
    "pvals2"
   ]
  },
  {
   "cell_type": "code",
   "execution_count": null,
   "metadata": {},
   "outputs": [],
   "source": [
    "sig_ind = np.where(pvals2 < 0.05)[0]\n",
    "sig_ind"
   ]
  },
  {
   "cell_type": "code",
   "execution_count": null,
   "metadata": {},
   "outputs": [],
   "source": [
    "pls.varexp[sig_ind]"
   ]
  },
  {
   "cell_type": "code",
   "execution_count": null,
   "metadata": {},
   "outputs": [],
   "source": [
    "conditions2 = all_data_sorted.iloc[:,3:453].columns.to_list()\n",
    "#conditions2"
   ]
  },
  {
   "cell_type": "code",
   "execution_count": null,
   "metadata": {},
   "outputs": [],
   "source": [
    "conditions = []\n",
    "for j in conditions2:\n",
    "    conditions = conditions + [j + '-' + i for i in groups]\n",
    "#conditions"
   ]
  },
  {
   "cell_type": "code",
   "execution_count": null,
   "metadata": {},
   "outputs": [],
   "source": [
    "# Gráfico que condiciones que no pasan por cero\n",
    "icx = 1\n",
    "err = (pls2[\"bootres\"][\"y_loadings_ci\"][:, icx, 1] - pls2[\"bootres\"][\"y_loadings_ci\"][:, icx, 0]) / 2   \n",
    "ind_sig = np.where(abs(err) < abs(pls2[\"y_loadings\"][:, icx]))[0]\n",
    "\n",
    "color_list = ['olive','gray']"
   ]
  },
  {
   "cell_type": "code",
   "execution_count": null,
   "metadata": {},
   "outputs": [],
   "source": [
    "new_ind = list()\n",
    "for i in range(len(ind_sig)):\n",
    "    if ind_sig[i] % 2 == 0:\n",
    "        if ind_sig[i] + 1 == ind_sig[i+1]:\n",
    "            print('ok')\n",
    "        else:\n",
    "            new_ind.insert(i+1, ind_sig[i] + 1 )\n",
    "            print('no')\n",
    "    else:\n",
    "        if ind_sig[i] - 1 == ind_sig[i-1]:\n",
    "            print('ok')\n",
    "        else:\n",
    "            new_ind.insert(i-1, ind_sig[i] - 1 )\n",
    "            #print('no')\n",
    "            \n",
    "new_sig = list(ind_sig) + new_ind\n",
    "new_sig.sort()"
   ]
  },
  {
   "cell_type": "code",
   "execution_count": null,
   "metadata": {},
   "outputs": [],
   "source": [
    "# División estructuras subcorticales\n",
    "sub_idx = np.where(np.array(new_sig) < 100)[0]\n",
    "sub_sig = np.array(new_sig)[sub_idx.astype(int)]\n",
    "newfig, axs = plt.subplots(1, 1, figsize=(5,15))\n",
    "err_sig = (pls2[\"bootres\"][\"y_loadings_ci\"][sub_sig, icx, 1] - pls2[\"bootres\"][\"y_loadings_ci\"][sub_sig, icx, 0]) / 2   \n",
    "axx= axs.barh(np.arange(len(err_sig)), pls2[\"y_loadings\"][sub_sig, icx], xerr=err_sig, color=color_list)\n",
    "conditions_new = [i.split('-')[0:-1] for i in conditions]\n",
    "#conditions_new = conditions\n",
    "axs.set_yticks(np.arange(len(sub_sig)))\n",
    "axs.set_yticklabels(np.array(conditions_new)[sub_sig])\n",
    "axs.legend(axx,['ctrl','tab'])"
   ]
  },
  {
   "cell_type": "code",
   "execution_count": null,
   "metadata": {},
   "outputs": [],
   "source": [
    "cor_idx = np.where(np.array(new_sig) > 100)[0]\n",
    "cor_sig = np.array(new_sig)[cor_idx.astype(int)]\n",
    "newfig, axs = plt.subplots(1, 1, figsize=(5,70))\n",
    "err_sig = (pls2[\"bootres\"][\"y_loadings_ci\"][cor_sig, icx, 1] - pls2[\"bootres\"][\"y_loadings_ci\"][cor_sig, icx, 0]) / 2   \n",
    "axx= axs.barh(np.arange(len(err_sig)), pls2[\"y_loadings\"][cor_sig, icx], xerr=err_sig, color=color_list)\n",
    "conditions_new = [i.split('-')[0] for i in conditions]\n",
    "axs.set_yticks(np.arange(len(cor_sig)))\n",
    "axs.set_yticklabels(np.array(conditions_new)[cor_sig])\n",
    "axs.legend(axx,['ctrl','tab'])"
   ]
  },
  {
   "cell_type": "code",
   "execution_count": null,
   "metadata": {},
   "outputs": [],
   "source": []
  }
 ],
 "metadata": {
  "kernelspec": {
   "display_name": "Python 3 (ipykernel)",
   "language": "python",
   "name": "python3"
  },
  "language_info": {
   "codemirror_mode": {
    "name": "ipython",
    "version": 3
   },
   "file_extension": ".py",
   "mimetype": "text/x-python",
   "name": "python",
   "nbconvert_exporter": "python",
   "pygments_lexer": "ipython3",
   "version": "3.9.12"
  }
 },
 "nbformat": 4,
 "nbformat_minor": 4
}
