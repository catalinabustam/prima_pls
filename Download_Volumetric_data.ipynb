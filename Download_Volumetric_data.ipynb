{
 "cells": [
  {
   "cell_type": "code",
   "execution_count": 10,
   "metadata": {},
   "outputs": [],
   "source": [
    "import xnat\n",
    "import os\n",
    "import re\n",
    "import pandas as pd\n",
    "from freesurfer_stats import CorticalParcellationStats\n",
    "import glob\n",
    "import numpy as np"
   ]
  },
  {
   "cell_type": "code",
   "execution_count": 2,
   "metadata": {},
   "outputs": [],
   "source": [
    "xnat_f = open(os.path.expanduser('~/.xnatPassura')).read()\n",
    "user = re.search('(\\+)(.*)(\\@)', xnat_f).group(2)\n",
    "password = re.search('(\\=)(.*)', xnat_f).group(2)\n",
    "project_id='prisma'"
   ]
  },
  {
   "cell_type": "code",
   "execution_count": 4,
   "metadata": {},
   "outputs": [],
   "source": [
    "session = xnat.connect('http://10.220.33.49', user= user, password= password)\n",
    "project=session.projects[project_id]"
   ]
  },
  {
   "cell_type": "code",
   "execution_count": 5,
   "metadata": {},
   "outputs": [],
   "source": [
    "subjects_file = 'controles.csv'\n",
    "path = 'controles/'"
   ]
  },
  {
   "cell_type": "code",
   "execution_count": 6,
   "metadata": {},
   "outputs": [],
   "source": [
    "sessions_pd= pd.read_csv(subjects_file)\n",
    "sessions = sessions_pd['sessions'].values"
   ]
  },
  {
   "cell_type": "code",
   "execution_count": 7,
   "metadata": {},
   "outputs": [
    {
     "data": {
      "text/plain": [
       "array(['CTRL014-MR3', 'CTRL001-MR3', 'CTRL002-MR3', 'CTRL003-MR3',\n",
       "       'CTRL004-MR3', 'CTRL005-MR3', 'CTRL006-MR3', 'CTRL008-MR3',\n",
       "       'CTRL009-MR3', 'CTRL010-MR3', 'CTRL011-MR3', 'CTRL012-MR3',\n",
       "       'CTRL013-MR3', 'CTRL014-MR3', 'CTRL015-MR3', 'CTRL016-MR3',\n",
       "       'CTRL017-MR3'], dtype=object)"
      ]
     },
     "execution_count": 7,
     "metadata": {},
     "output_type": "execute_result"
    }
   ],
   "source": [
    "sessions"
   ]
  },
  {
   "cell_type": "code",
   "execution_count": 8,
   "metadata": {},
   "outputs": [
    {
     "name": "stdout",
     "output_type": "stream",
     "text": [
      "CTRL014\n"
     ]
    },
    {
     "name": "stderr",
     "output_type": "stream",
     "text": [
      "100% of  24.5 KiB |################################|   1.4 MiB/s Time:  0:00:00\n",
      "100% of  24.5 KiB |################################|   1.3 MiB/s Time:  0:00:00\n"
     ]
    },
    {
     "name": "stdout",
     "output_type": "stream",
     "text": [
      "CTRL014\n",
      "CTRL001\n"
     ]
    },
    {
     "name": "stderr",
     "output_type": "stream",
     "text": [
      "100% of  24.5 KiB |################################|   1.5 MiB/s Time:  0:00:00\n",
      "100% of  24.5 KiB |################################|   1.5 MiB/s Time:  0:00:00\n"
     ]
    },
    {
     "name": "stdout",
     "output_type": "stream",
     "text": [
      "CTRL001\n",
      "CTRL002\n"
     ]
    },
    {
     "name": "stderr",
     "output_type": "stream",
     "text": [
      "100% of  24.5 KiB |################################|   1.5 MiB/s Time:  0:00:00\n",
      "100% of  24.5 KiB |################################|   1.3 MiB/s Time:  0:00:00\n"
     ]
    },
    {
     "name": "stdout",
     "output_type": "stream",
     "text": [
      "CTRL002\n",
      "CTRL003\n"
     ]
    },
    {
     "name": "stderr",
     "output_type": "stream",
     "text": [
      "100% of  24.5 KiB |################################|   1.4 MiB/s Time:  0:00:00\n",
      "100% of  24.5 KiB |################################|   1.3 MiB/s Time:  0:00:00\n"
     ]
    },
    {
     "name": "stdout",
     "output_type": "stream",
     "text": [
      "CTRL003\n",
      "CTRL004\n"
     ]
    },
    {
     "name": "stderr",
     "output_type": "stream",
     "text": [
      "100% of  24.5 KiB |################################|   1.6 MiB/s Time:  0:00:00\n",
      "100% of  24.5 KiB |################################|   1.4 MiB/s Time:  0:00:00\n"
     ]
    },
    {
     "name": "stdout",
     "output_type": "stream",
     "text": [
      "CTRL004\n",
      "CTRL005\n"
     ]
    },
    {
     "name": "stderr",
     "output_type": "stream",
     "text": [
      "100% of  24.5 KiB |################################|   1.4 MiB/s Time:  0:00:00\n",
      "100% of  24.5 KiB |################################|   1.5 MiB/s Time:  0:00:00\n"
     ]
    },
    {
     "name": "stdout",
     "output_type": "stream",
     "text": [
      "CTRL005\n",
      "CTRL006\n"
     ]
    },
    {
     "name": "stderr",
     "output_type": "stream",
     "text": [
      "100% of  24.5 KiB |################################|   1.6 MiB/s Time:  0:00:00\n",
      "100% of  24.5 KiB |################################|   1.4 MiB/s Time:  0:00:00\n"
     ]
    },
    {
     "name": "stdout",
     "output_type": "stream",
     "text": [
      "CTRL006\n",
      "CTRL008\n"
     ]
    },
    {
     "name": "stderr",
     "output_type": "stream",
     "text": [
      "100% of  24.5 KiB |################################|   1.5 MiB/s Time:  0:00:00\n",
      "100% of  24.5 KiB |###############################| 1017.2 KiB/s Time:  0:00:00\n"
     ]
    },
    {
     "name": "stdout",
     "output_type": "stream",
     "text": [
      "CTRL008\n",
      "CTRL009\n"
     ]
    },
    {
     "name": "stderr",
     "output_type": "stream",
     "text": [
      "100% of  24.5 KiB |################################|   1.5 MiB/s Time:  0:00:00\n",
      "100% of  24.5 KiB |################################|   1.5 MiB/s Time:  0:00:00\n"
     ]
    },
    {
     "name": "stdout",
     "output_type": "stream",
     "text": [
      "CTRL009\n",
      "CTRL010\n"
     ]
    },
    {
     "name": "stderr",
     "output_type": "stream",
     "text": [
      "100% of  24.5 KiB |################################|   1.4 MiB/s Time:  0:00:00\n",
      "100% of  24.5 KiB |################################|   1.4 MiB/s Time:  0:00:00\n"
     ]
    },
    {
     "name": "stdout",
     "output_type": "stream",
     "text": [
      "CTRL010\n",
      "CTRL011\n"
     ]
    },
    {
     "name": "stderr",
     "output_type": "stream",
     "text": [
      "100% of  24.5 KiB |################################|   1.5 MiB/s Time:  0:00:00\n",
      "100% of  24.5 KiB |################################|   1.5 MiB/s Time:  0:00:00\n"
     ]
    },
    {
     "name": "stdout",
     "output_type": "stream",
     "text": [
      "CTRL011\n",
      "CTRL012\n"
     ]
    },
    {
     "name": "stderr",
     "output_type": "stream",
     "text": [
      "100% of  24.5 KiB |################################|   1.5 MiB/s Time:  0:00:00\n",
      "100% of  24.5 KiB |################################|   1.3 MiB/s Time:  0:00:00\n"
     ]
    },
    {
     "name": "stdout",
     "output_type": "stream",
     "text": [
      "CTRL012\n",
      "CTRL013\n"
     ]
    },
    {
     "name": "stderr",
     "output_type": "stream",
     "text": [
      "100% of  24.5 KiB |################################|   1.4 MiB/s Time:  0:00:00\n",
      "100% of  24.5 KiB |################################| 821.8 KiB/s Time:  0:00:00\n"
     ]
    },
    {
     "name": "stdout",
     "output_type": "stream",
     "text": [
      "CTRL013\n",
      "CTRL014\n"
     ]
    },
    {
     "name": "stderr",
     "output_type": "stream",
     "text": [
      "100% of  24.5 KiB |################################|   1.5 MiB/s Time:  0:00:00\n",
      "100% of  24.5 KiB |################################|   1.4 MiB/s Time:  0:00:00\n"
     ]
    },
    {
     "name": "stdout",
     "output_type": "stream",
     "text": [
      "CTRL014\n",
      "CTRL015\n"
     ]
    },
    {
     "name": "stderr",
     "output_type": "stream",
     "text": [
      "100% of  24.5 KiB |################################|   1.5 MiB/s Time:  0:00:00\n",
      "100% of  24.5 KiB |################################|   1.6 MiB/s Time:  0:00:00\n"
     ]
    },
    {
     "name": "stdout",
     "output_type": "stream",
     "text": [
      "CTRL015\n",
      "CTRL016\n"
     ]
    },
    {
     "name": "stderr",
     "output_type": "stream",
     "text": [
      "100% of  24.5 KiB |################################|   1.4 MiB/s Time:  0:00:00\n",
      "100% of  24.4 KiB |################################|   1.4 MiB/s Time:  0:00:00\n"
     ]
    },
    {
     "name": "stdout",
     "output_type": "stream",
     "text": [
      "CTRL016\n",
      "CTRL017\n"
     ]
    },
    {
     "name": "stderr",
     "output_type": "stream",
     "text": [
      "100% of  24.5 KiB |################################|   1.2 MiB/s Time:  0:00:00\n",
      "100% of  24.5 KiB |################################|   1.5 MiB/s Time:  0:00:00\n"
     ]
    },
    {
     "name": "stdout",
     "output_type": "stream",
     "text": [
      "CTRL017\n"
     ]
    }
   ],
   "source": [
    "names = ['lh.aparc.schaefer400-yeo17.stats','rh.aparc.schaefer400-yeo17.stats']\n",
    "for session_id in sessions:\n",
    "    subject = session_id.split('-')[0]\n",
    "    if session_id in project.subjects[subject].experiments:\n",
    "        for name in names: \n",
    "            print(subject)\n",
    "            file = project.subjects[subject].experiments[session_id].resources['FREESURFER'].files[name]\n",
    "            file.download(path + session_id + '_' + name)"
   ]
  },
  {
   "cell_type": "code",
   "execution_count": 9,
   "metadata": {},
   "outputs": [],
   "source": [
    "stats = CorticalParcellationStats.read(path+sessions[0]+'_'+'lh.aparc.schaefer400-yeo17.stats')"
   ]
  },
  {
   "cell_type": "code",
   "execution_count": 10,
   "metadata": {},
   "outputs": [
    {
     "data": {
      "text/html": [
       "<div>\n",
       "<style scoped>\n",
       "    .dataframe tbody tr th:only-of-type {\n",
       "        vertical-align: middle;\n",
       "    }\n",
       "\n",
       "    .dataframe tbody tr th {\n",
       "        vertical-align: top;\n",
       "    }\n",
       "\n",
       "    .dataframe thead th {\n",
       "        text-align: right;\n",
       "    }\n",
       "</style>\n",
       "<table border=\"1\" class=\"dataframe\">\n",
       "  <thead>\n",
       "    <tr style=\"text-align: right;\">\n",
       "      <th></th>\n",
       "      <th>white_surface_total_area_mm^2</th>\n",
       "      <th>mean_thickness_mm</th>\n",
       "      <th>brain_segmentation_volume_mm^3</th>\n",
       "      <th>brain_segmentation_volume_without_ventricles_mm^3</th>\n",
       "      <th>brain_segmentation_volume_without_ventricles_from_surf_mm^3</th>\n",
       "      <th>total_cortical_gray_matter_volume_mm^3</th>\n",
       "      <th>supratentorial_volume_mm^3</th>\n",
       "      <th>supratentorial_volume_without_ventricles_mm^3</th>\n",
       "      <th>estimated_total_intracranial_volume_mm^3</th>\n",
       "    </tr>\n",
       "  </thead>\n",
       "  <tbody>\n",
       "    <tr>\n",
       "      <th>0</th>\n",
       "      <td>89771.9</td>\n",
       "      <td>2.69039</td>\n",
       "      <td>1260646.0</td>\n",
       "      <td>1232643.0</td>\n",
       "      <td>1232643.0</td>\n",
       "      <td>561848.492462</td>\n",
       "      <td>1114140.0</td>\n",
       "      <td>1086137.0</td>\n",
       "      <td>1.492198e+06</td>\n",
       "    </tr>\n",
       "  </tbody>\n",
       "</table>\n",
       "</div>"
      ],
      "text/plain": [
       "   white_surface_total_area_mm^2  mean_thickness_mm  \\\n",
       "0                        89771.9            2.69039   \n",
       "\n",
       "   brain_segmentation_volume_mm^3  \\\n",
       "0                       1260646.0   \n",
       "\n",
       "   brain_segmentation_volume_without_ventricles_mm^3  \\\n",
       "0                                          1232643.0   \n",
       "\n",
       "   brain_segmentation_volume_without_ventricles_from_surf_mm^3  \\\n",
       "0                                          1232643.0             \n",
       "\n",
       "   total_cortical_gray_matter_volume_mm^3  supratentorial_volume_mm^3  \\\n",
       "0                           561848.492462                   1114140.0   \n",
       "\n",
       "   supratentorial_volume_without_ventricles_mm^3  \\\n",
       "0                                      1086137.0   \n",
       "\n",
       "   estimated_total_intracranial_volume_mm^3  \n",
       "0                              1.492198e+06  "
      ]
     },
     "execution_count": 10,
     "metadata": {},
     "output_type": "execute_result"
    }
   ],
   "source": [
    "stats.whole_brain_measurements"
   ]
  },
  {
   "cell_type": "code",
   "execution_count": 11,
   "metadata": {},
   "outputs": [
    {
     "data": {
      "text/html": [
       "<div>\n",
       "<style scoped>\n",
       "    .dataframe tbody tr th:only-of-type {\n",
       "        vertical-align: middle;\n",
       "    }\n",
       "\n",
       "    .dataframe tbody tr th {\n",
       "        vertical-align: top;\n",
       "    }\n",
       "\n",
       "    .dataframe thead th {\n",
       "        text-align: right;\n",
       "    }\n",
       "</style>\n",
       "<table border=\"1\" class=\"dataframe\">\n",
       "  <thead>\n",
       "    <tr style=\"text-align: right;\">\n",
       "      <th></th>\n",
       "      <th>structure_name</th>\n",
       "      <th>number_of_vertices</th>\n",
       "      <th>surface_area_mm^2</th>\n",
       "      <th>gray_matter_volume_mm^3</th>\n",
       "      <th>average_thickness_mm</th>\n",
       "      <th>thickness_stddev_mm</th>\n",
       "      <th>integrated_rectified_mean_curvature_mm^-1</th>\n",
       "      <th>integrated_rectified_gaussian_curvature_mm^-2</th>\n",
       "      <th>folding_index</th>\n",
       "      <th>intrinsic_curvature_index</th>\n",
       "    </tr>\n",
       "  </thead>\n",
       "  <tbody>\n",
       "    <tr>\n",
       "      <th>0</th>\n",
       "      <td>Background+FreeSurfer_Defined_Medial_Wall</td>\n",
       "      <td>1363</td>\n",
       "      <td>834</td>\n",
       "      <td>2282</td>\n",
       "      <td>2.409</td>\n",
       "      <td>1.016</td>\n",
       "      <td>0.114</td>\n",
       "      <td>0.045</td>\n",
       "      <td>20</td>\n",
       "      <td>2.0</td>\n",
       "    </tr>\n",
       "    <tr>\n",
       "      <th>1</th>\n",
       "      <td>17Networks_LH_VisCent_ExStr_1</td>\n",
       "      <td>496</td>\n",
       "      <td>379</td>\n",
       "      <td>1175</td>\n",
       "      <td>2.869</td>\n",
       "      <td>0.449</td>\n",
       "      <td>0.167</td>\n",
       "      <td>0.046</td>\n",
       "      <td>7</td>\n",
       "      <td>1.0</td>\n",
       "    </tr>\n",
       "    <tr>\n",
       "      <th>2</th>\n",
       "      <td>17Networks_LH_VisCent_ExStr_2</td>\n",
       "      <td>797</td>\n",
       "      <td>613</td>\n",
       "      <td>1614</td>\n",
       "      <td>2.511</td>\n",
       "      <td>0.487</td>\n",
       "      <td>0.175</td>\n",
       "      <td>0.062</td>\n",
       "      <td>13</td>\n",
       "      <td>2.0</td>\n",
       "    </tr>\n",
       "    <tr>\n",
       "      <th>3</th>\n",
       "      <td>17Networks_LH_VisCent_ExStr_3</td>\n",
       "      <td>591</td>\n",
       "      <td>428</td>\n",
       "      <td>1448</td>\n",
       "      <td>2.641</td>\n",
       "      <td>0.563</td>\n",
       "      <td>0.129</td>\n",
       "      <td>0.032</td>\n",
       "      <td>6</td>\n",
       "      <td>0.6</td>\n",
       "    </tr>\n",
       "    <tr>\n",
       "      <th>4</th>\n",
       "      <td>17Networks_LH_VisCent_ExStr_4</td>\n",
       "      <td>672</td>\n",
       "      <td>510</td>\n",
       "      <td>1023</td>\n",
       "      <td>1.911</td>\n",
       "      <td>0.553</td>\n",
       "      <td>0.157</td>\n",
       "      <td>0.045</td>\n",
       "      <td>8</td>\n",
       "      <td>1.2</td>\n",
       "    </tr>\n",
       "    <tr>\n",
       "      <th>...</th>\n",
       "      <td>...</td>\n",
       "      <td>...</td>\n",
       "      <td>...</td>\n",
       "      <td>...</td>\n",
       "      <td>...</td>\n",
       "      <td>...</td>\n",
       "      <td>...</td>\n",
       "      <td>...</td>\n",
       "      <td>...</td>\n",
       "      <td>...</td>\n",
       "    </tr>\n",
       "    <tr>\n",
       "      <th>196</th>\n",
       "      <td>17Networks_LH_TempPar_2</td>\n",
       "      <td>396</td>\n",
       "      <td>299</td>\n",
       "      <td>1144</td>\n",
       "      <td>2.936</td>\n",
       "      <td>0.482</td>\n",
       "      <td>0.149</td>\n",
       "      <td>0.038</td>\n",
       "      <td>8</td>\n",
       "      <td>0.7</td>\n",
       "    </tr>\n",
       "    <tr>\n",
       "      <th>197</th>\n",
       "      <td>17Networks_LH_TempPar_3</td>\n",
       "      <td>574</td>\n",
       "      <td>437</td>\n",
       "      <td>1717</td>\n",
       "      <td>3.139</td>\n",
       "      <td>0.542</td>\n",
       "      <td>0.153</td>\n",
       "      <td>0.041</td>\n",
       "      <td>10</td>\n",
       "      <td>0.9</td>\n",
       "    </tr>\n",
       "    <tr>\n",
       "      <th>198</th>\n",
       "      <td>17Networks_LH_TempPar_4</td>\n",
       "      <td>437</td>\n",
       "      <td>292</td>\n",
       "      <td>667</td>\n",
       "      <td>2.853</td>\n",
       "      <td>0.473</td>\n",
       "      <td>0.104</td>\n",
       "      <td>0.023</td>\n",
       "      <td>2</td>\n",
       "      <td>0.4</td>\n",
       "    </tr>\n",
       "    <tr>\n",
       "      <th>199</th>\n",
       "      <td>17Networks_LH_TempPar_5</td>\n",
       "      <td>683</td>\n",
       "      <td>484</td>\n",
       "      <td>1484</td>\n",
       "      <td>2.652</td>\n",
       "      <td>0.484</td>\n",
       "      <td>0.111</td>\n",
       "      <td>0.025</td>\n",
       "      <td>6</td>\n",
       "      <td>0.7</td>\n",
       "    </tr>\n",
       "    <tr>\n",
       "      <th>200</th>\n",
       "      <td>17Networks_LH_TempPar_6</td>\n",
       "      <td>468</td>\n",
       "      <td>320</td>\n",
       "      <td>1372</td>\n",
       "      <td>3.181</td>\n",
       "      <td>0.480</td>\n",
       "      <td>0.114</td>\n",
       "      <td>0.025</td>\n",
       "      <td>4</td>\n",
       "      <td>0.5</td>\n",
       "    </tr>\n",
       "  </tbody>\n",
       "</table>\n",
       "<p>201 rows × 10 columns</p>\n",
       "</div>"
      ],
      "text/plain": [
       "                                structure_name  number_of_vertices  \\\n",
       "0    Background+FreeSurfer_Defined_Medial_Wall                1363   \n",
       "1                17Networks_LH_VisCent_ExStr_1                 496   \n",
       "2                17Networks_LH_VisCent_ExStr_2                 797   \n",
       "3                17Networks_LH_VisCent_ExStr_3                 591   \n",
       "4                17Networks_LH_VisCent_ExStr_4                 672   \n",
       "..                                         ...                 ...   \n",
       "196                    17Networks_LH_TempPar_2                 396   \n",
       "197                    17Networks_LH_TempPar_3                 574   \n",
       "198                    17Networks_LH_TempPar_4                 437   \n",
       "199                    17Networks_LH_TempPar_5                 683   \n",
       "200                    17Networks_LH_TempPar_6                 468   \n",
       "\n",
       "     surface_area_mm^2  gray_matter_volume_mm^3  average_thickness_mm  \\\n",
       "0                  834                     2282                 2.409   \n",
       "1                  379                     1175                 2.869   \n",
       "2                  613                     1614                 2.511   \n",
       "3                  428                     1448                 2.641   \n",
       "4                  510                     1023                 1.911   \n",
       "..                 ...                      ...                   ...   \n",
       "196                299                     1144                 2.936   \n",
       "197                437                     1717                 3.139   \n",
       "198                292                      667                 2.853   \n",
       "199                484                     1484                 2.652   \n",
       "200                320                     1372                 3.181   \n",
       "\n",
       "     thickness_stddev_mm  integrated_rectified_mean_curvature_mm^-1  \\\n",
       "0                  1.016                                      0.114   \n",
       "1                  0.449                                      0.167   \n",
       "2                  0.487                                      0.175   \n",
       "3                  0.563                                      0.129   \n",
       "4                  0.553                                      0.157   \n",
       "..                   ...                                        ...   \n",
       "196                0.482                                      0.149   \n",
       "197                0.542                                      0.153   \n",
       "198                0.473                                      0.104   \n",
       "199                0.484                                      0.111   \n",
       "200                0.480                                      0.114   \n",
       "\n",
       "     integrated_rectified_gaussian_curvature_mm^-2  folding_index  \\\n",
       "0                                            0.045             20   \n",
       "1                                            0.046              7   \n",
       "2                                            0.062             13   \n",
       "3                                            0.032              6   \n",
       "4                                            0.045              8   \n",
       "..                                             ...            ...   \n",
       "196                                          0.038              8   \n",
       "197                                          0.041             10   \n",
       "198                                          0.023              2   \n",
       "199                                          0.025              6   \n",
       "200                                          0.025              4   \n",
       "\n",
       "     intrinsic_curvature_index  \n",
       "0                          2.0  \n",
       "1                          1.0  \n",
       "2                          2.0  \n",
       "3                          0.6  \n",
       "4                          1.2  \n",
       "..                         ...  \n",
       "196                        0.7  \n",
       "197                        0.9  \n",
       "198                        0.4  \n",
       "199                        0.7  \n",
       "200                        0.5  \n",
       "\n",
       "[201 rows x 10 columns]"
      ]
     },
     "execution_count": 11,
     "metadata": {},
     "output_type": "execute_result"
    }
   ],
   "source": [
    "stats.structural_measurements"
   ]
  },
  {
   "cell_type": "markdown",
   "metadata": {},
   "source": [
    "## DOWLOAD SUBCORTICAL "
   ]
  },
  {
   "cell_type": "code",
   "execution_count": 12,
   "metadata": {},
   "outputs": [],
   "source": [
    "project_id=project_id\n",
    "subjects_file = subjects_file\n",
    "path = 'controles_aseg/'\n",
    "\n",
    "session = xnat.connect('http://10.220.33.49', user= user, password= password)\n",
    "project=session.projects[project_id]\n",
    "\n",
    "if not os.path.exists(path):\n",
    "    os.mkdir(path)"
   ]
  },
  {
   "cell_type": "code",
   "execution_count": 13,
   "metadata": {},
   "outputs": [],
   "source": [
    "sessions_pd= pd.read_csv(subjects_file)\n",
    "sessions = sessions_pd['sessions'].values"
   ]
  },
  {
   "cell_type": "code",
   "execution_count": 14,
   "metadata": {},
   "outputs": [
    {
     "name": "stderr",
     "output_type": "stream",
     "text": [
      "100% of   9.3 KiB |################################|   3.0 MiB/s Time:  0:00:00\n",
      "100% of   9.3 KiB |################################|   3.0 MiB/s Time:  0:00:00\n",
      "100% of   9.3 KiB |################################|   2.7 MiB/s Time:  0:00:00\n",
      "100% of   9.3 KiB |################################|   3.6 MiB/s Time:  0:00:00\n",
      "100% of   9.3 KiB |################################|   3.2 MiB/s Time:  0:00:00\n",
      "100% of   9.3 KiB |################################|   2.9 MiB/s Time:  0:00:00\n",
      "100% of   9.3 KiB |################################|   4.2 MiB/s Time:  0:00:00\n",
      "100% of   9.3 KiB |################################|   5.5 MiB/s Time:  0:00:00\n",
      "100% of   9.3 KiB |################################|   4.6 MiB/s Time:  0:00:00\n",
      "100% of   9.3 KiB |################################|   2.6 MiB/s Time:  0:00:00\n",
      "100% of   9.3 KiB |################################|   2.4 MiB/s Time:  0:00:00\n",
      "100% of   9.3 KiB |################################| 472.9 KiB/s Time:  0:00:00\n",
      "100% of   9.3 KiB |################################| 399.8 KiB/s Time:  0:00:00\n",
      "100% of   9.3 KiB |################################| 252.8 KiB/s Time:  0:00:00\n",
      "100% of   9.3 KiB |################################|   3.6 MiB/s Time:  0:00:00\n",
      "100% of   9.3 KiB |################################|  53.3 KiB/s Time:  0:00:00\n",
      "100% of   9.3 KiB |################################|   2.3 MiB/s Time:  0:00:00\n",
      "Exception in thread XNATpyKeepAliveThread:\n",
      "Traceback (most recent call last):\n",
      "  File \"/Users/pyxis/opt/anaconda3/lib/python3.7/threading.py\", line 926, in _bootstrap_inner\n",
      "    self.run()\n",
      "  File \"/Users/pyxis/opt/anaconda3/lib/python3.7/threading.py\", line 870, in run\n",
      "    self._target(*self._args, **self._kwargs)\n",
      "  File \"/Users/pyxis/opt/anaconda3/lib/python3.7/site-packages/xnat/session.py\", line 250, in _keepalive_thread_run\n",
      "    self.heartbeat()\n",
      "  File \"/Users/pyxis/opt/anaconda3/lib/python3.7/site-packages/xnat/session.py\", line 241, in heartbeat\n",
      "    self.get('/data/JSESSION', timeout=10)\n",
      "  File \"/Users/pyxis/opt/anaconda3/lib/python3.7/site-packages/xnat/session.py\", line 364, in get\n",
      "    self._check_response(response, accepted_status=accepted_status, uri=uri)  # Allow OK, as we want to get data\n",
      "  File \"/Users/pyxis/opt/anaconda3/lib/python3.7/site-packages/xnat/session.py\", line 324, in _check_response\n",
      "    raise exceptions.XNATResponseError('Invalid status for response from XNATSession for url {} (status {}, accepted status: {})'.format(uri, response.status_code, accepted_status))\n",
      "xnat.exceptions.XNATResponseError: Invalid status for response from XNATSession for url http://10.220.33.49/data/JSESSION (status 404, accepted status: [200])\n",
      "\n"
     ]
    }
   ],
   "source": [
    "name = 'aseg.stats'\n",
    "for session_id in sessions:\n",
    "    subject = session_id.split('-')[0]\n",
    "    if session_id in project.subjects[subject].experiments:      \n",
    "        file = project.subjects[subject].experiments[session_id].resources['FREESURFER'].files[name]\n",
    "        file.download(path + session_id + '_' + name)"
   ]
  },
  {
   "cell_type": "markdown",
   "metadata": {},
   "source": [
    "## Create consolidate data"
   ]
  },
  {
   "cell_type": "code",
   "execution_count": 6,
   "metadata": {},
   "outputs": [],
   "source": [
    "def get_cortical_data(project,session, whole_brain=False):\n",
    "    list_files = glob.glob(project + \"/*\")\n",
    "    pd_gv_lh= pd.DataFrame()\n",
    "    pd_gv_rh= pd.DataFrame()\n",
    "    \n",
    "    for file in list_files:\n",
    "        subject = re.search(f'({project}/)(.*)(-{session}_)(.*.)', file).group(2)\n",
    "        group = subject[0:3]\n",
    "        hemi = re.search(f'(-{session}_)(.*\\.)(.*\\.)(.*\\.)', file).group(2)[0:2]\n",
    "        stats = CorticalParcellationStats.read(file)\n",
    "        df2 = stats.structural_measurements.copy()\n",
    "        gmv = df2[\"gray_matter_volume_mm^3\"].iloc[1:].values\n",
    "        column_names = df2.structure_name[1:].values.tolist()\n",
    "        gm_df = pd.DataFrame([gmv], columns=column_names)\n",
    "        df_j = gm_df\n",
    "        \n",
    "        if whole_brain:\n",
    "            if  hemi=='lh':\n",
    "                df1 = stats.whole_brain_measurements.copy()\n",
    "                df_j = pd.concat([df1,gm_df], axis = 1)\n",
    "                \n",
    "        df_j.insert(0,'project',project)\n",
    "        df_j.insert(0,'grupo',group)\n",
    "        df_j.insert(0,'subject',subject)\n",
    "        if hemi=='lh':\n",
    "            pd_gv_lh = pd_gv_lh.append(df_j)\n",
    "        else:\n",
    "            pd_gv_rh = pd_gv_rh.append(df_j)\n",
    "        \n",
    "    joind_pd = pd_gv_lh.merge(pd_gv_rh, on=['subject','grupo','project']) \n",
    "    \n",
    "    return(joind_pd)\n",
    "    "
   ]
  },
  {
   "cell_type": "code",
   "execution_count": 7,
   "metadata": {},
   "outputs": [],
   "source": [
    "prisma_3 = get_cortical_data('prisma3','MR3')\n",
    "prisma_1 = get_cortical_data('prisma1','MR1')\n",
    "controles = get_cortical_data('controles','MR3')"
   ]
  },
  {
   "cell_type": "markdown",
   "metadata": {},
   "source": [
    "## Get subcortical"
   ]
  },
  {
   "cell_type": "code",
   "execution_count": 8,
   "metadata": {},
   "outputs": [],
   "source": [
    "def get_aseg(project,session):\n",
    "    \n",
    "    list_files = glob.glob(project+ '_aseg'+ \"/*\")\n",
    "    aseg_df = pd.DataFrame()\n",
    "    for file in list_files:\n",
    "        \n",
    "        subject = re.search(f'({project}_aseg/)(.*)(-{session}_)(.*.)', file).group(2)\n",
    "        group = subject[0:3]\n",
    "        dicts_subcortical = {}\n",
    "        dicts_header = {}\n",
    "    \n",
    "        subcortical = np.genfromtxt(file, dtype=\"i1,i1,i4,f4,U32,f4,f4,f4,f4,f4\",encoding=None)\n",
    "\n",
    "        for line in subcortical:\n",
    "            dicts_subcortical[line[4]] = line[5]\n",
    "\n",
    "        pd_cortical = pd.DataFrame([dicts_subcortical])\n",
    "    \n",
    "        header = np.genfromtxt(file, skip_header=14, skip_footer=90,  comments='%', delimiter=',', dtype=\"U32,U32,U64,f4,S8\",encoding=None)\n",
    "    \n",
    "        for line in header:\n",
    "            dicts_header[line[2].lstrip() ] = line[3]\n",
    "\n",
    "        pd_header = pd.DataFrame([dicts_header])\n",
    "    \n",
    "        pd_aseg = pd_header.join(pd_cortical)\n",
    "        \n",
    "        pd_aseg.insert(0,'project',project)\n",
    "        pd_aseg.insert(0,'grupo',group)\n",
    "        pd_aseg.insert(0,'subject',subject)\n",
    "        \n",
    "        aseg_df = aseg_df.append(pd_aseg, ignore_index=True)\n",
    "    return(aseg_df)\n",
    "    "
   ]
  },
  {
   "cell_type": "code",
   "execution_count": 11,
   "metadata": {},
   "outputs": [],
   "source": [
    "prisma3_aseg = get_aseg('prisma3','MR3')\n",
    "prisma1_aseg = get_aseg('prisma1','MR1')\n",
    "controles_aseg = get_aseg('controles','MR3')"
   ]
  },
  {
   "cell_type": "markdown",
   "metadata": {},
   "source": [
    "## Join cortical and subcortical data"
   ]
  },
  {
   "cell_type": "code",
   "execution_count": 12,
   "metadata": {},
   "outputs": [],
   "source": [
    "all_volumes_prisma3 = prisma3_aseg.merge(prisma_3, on=['subject','grupo','project'])\n",
    "all_volumes_prisma1 = prisma1_aseg.merge(prisma_1, on=['subject','grupo','project']) \n",
    "all_volumes_controles = controles_aseg.merge(controles, on=['subject','grupo','project'])"
   ]
  },
  {
   "cell_type": "code",
   "execution_count": 16,
   "metadata": {},
   "outputs": [],
   "source": [
    "all_volumes = pd.concat([all_volumes_controles,all_volumes_prisma1,all_volumes_prisma3])\n",
    "all_volumes.to_csv('data/all_volumes.csv') "
   ]
  },
  {
   "cell_type": "code",
   "execution_count": null,
   "metadata": {},
   "outputs": [],
   "source": []
  }
 ],
 "metadata": {
  "kernelspec": {
   "display_name": "hmm",
   "language": "python",
   "name": "hmm"
  },
  "language_info": {
   "codemirror_mode": {
    "name": "ipython",
    "version": 3
   },
   "file_extension": ".py",
   "mimetype": "text/x-python",
   "name": "python",
   "nbconvert_exporter": "python",
   "pygments_lexer": "ipython3",
   "version": "3.7.3"
  }
 },
 "nbformat": 4,
 "nbformat_minor": 4
}
